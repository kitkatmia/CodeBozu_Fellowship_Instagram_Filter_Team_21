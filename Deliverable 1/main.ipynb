{
 "cells": [
  {
   "cell_type": "code",
   "execution_count": 2,
   "metadata": {},
   "outputs": [],
   "source": [
    "import cv2\n",
    "import matplotlib.pyplot as plt\n",
    "to_convert_image = 'Bozu.png'"
   ]
  },
  {
   "cell_type": "code",
   "execution_count": 6,
   "metadata": {},
   "outputs": [],
   "source": [
    "def negative(to_convert_image):\n",
    "    img = cv2.imread(to_convert_image, 0)\n",
    "    img = 255 - img\n",
    "    cv2.imwrite('negative_bozu.png', img)\n",
    "    cv2.imshow('Negative Bozu', img)\n",
    "    cv2.waitKey(0)\n",
    "    cv2.destroyAllWindows()\n",
    "    return img\n",
    "\n"
   ]
  },
  {
   "cell_type": "code",
   "execution_count": null,
   "metadata": {},
   "outputs": [],
   "source": [
    "def grayify(to_convert_image):\n",
    "    pass\n",
    "\n"
   ]
  },
  {
   "cell_type": "code",
   "execution_count": null,
   "metadata": {},
   "outputs": [],
   "source": [
    "\n",
    "def reddify(to_convert_image):\n",
    "    pass\n",
    "\n",
    "\n",
    "def greenify(to_convert_image):\n",
    "    pass\n",
    "\n",
    "\n",
    "def blueify(to_convert_image):\n",
    "    pass\n",
    "\n"
   ]
  },
  {
   "cell_type": "code",
   "execution_count": 7,
   "metadata": {},
   "outputs": [
    {
     "name": "stdout",
     "output_type": "stream",
     "text": [
      "Team 21 Deliverable 1\n"
     ]
    }
   ],
   "source": [
    "print(\"Team 21 Deliverable 1\")\n",
    "choice = input(\"Enter 1 to Reddify Bozu\\n2 to Greenify Bozu\\n3 to Blueify Bozu\\n4 to convert Bozu to Grayscale\\n5 to get negative image of Bozu\\n6 to exit\\nYour choice: \")\n",
    "\n",
    "while choice != '6':\n",
    "    if choice == \"1\":\n",
    "        reddify(to_convert_image)\n",
    "    elif choice == \"2\":\n",
    "        greenify(to_convert_image)\n",
    "    elif choice == \"3\":\n",
    "        blueify(to_convert_image)\n",
    "    elif choice == \"4\":\n",
    "        grayify(to_convert_image)\n",
    "    elif choice == \"5\":\n",
    "        negative(to_convert_image)\n",
    "    choice = input(\"Enter 1 to Reddify Bozu\\n2 to Greenify Bozu\\n3 to Blueify Bozu\\n4 to convert Bozu to Grayscale\\n5 to get negative image of Bozu\\n6 to exit\\nYour choice: \")\n",
    "\n",
    "print(\"Thank you for using our program!\")\n"
   ]
  }
 ],
 "metadata": {
  "interpreter": {
   "hash": "1ee38ef4a5a9feb55287fd749643f13d043cb0a7addaab2a9c224cbe137c0062"
  },
  "kernelspec": {
   "display_name": "Python 3.8.12 64-bit",
   "language": "python",
   "name": "python3"
  },
  "language_info": {
   "codemirror_mode": {
    "name": "ipython",
    "version": 3
   },
   "file_extension": ".py",
   "mimetype": "text/x-python",
   "name": "python",
   "nbconvert_exporter": "python",
   "pygments_lexer": "ipython3",
   "version": "3.8.12"
  },
  "orig_nbformat": 4
 },
 "nbformat": 4,
 "nbformat_minor": 2
}
