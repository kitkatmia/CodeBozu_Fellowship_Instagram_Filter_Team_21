{
 "cells": [
  {
   "cell_type": "code",
   "execution_count": null,
   "metadata": {},
   "outputs": [],
   "source": [
    "import cv2\n",
    "import matplotlib.pyplot as plt"
   ]
  },
  {
   "cell_type": "code",
   "execution_count": null,
   "metadata": {},
   "outputs": [],
   "source": [
    "def Bozu_in_Andromeda():\n",
    "    img1 = cv2.imread('Bozu.png')\n",
    "    img2 = cv2.imread('andromeda.jpg')\n",
    "    # Making Bozu's image smaller in dimensions\n",
    "    img1 = cv2.resize(img1, (0,0), fx=0.5, fy=0.5)\n",
    "    # Assigning the starting values to place Bozu at the center of the Andromeda \n",
    "    starting_y = img2.shape[0]//2 - img1.shape[0]//2\n",
    "    starting_x= img2.shape[1]//2 - img1.shape[1]//2\n",
    "    # Adding Bozu's image in Andromeda\n",
    "    img2[starting_y:img1.shape[0]+starting_y, starting_x:img1.shape[1]+starting_x] = img1\n",
    "    # Showing image\n",
    "    plt.imshow(img2)\n",
    "    plt.show()\n",
    "    # Saving image\n",
    "    cv2.imwrite('Bozu in Andromeda.jpg', img2)\n",
    "Bozu_in_Andromeda()"
   ]
  }
 ],
 "metadata": {
  "language_info": {
   "name": "python"
  },
  "orig_nbformat": 4
 },
 "nbformat": 4,
 "nbformat_minor": 2
}
