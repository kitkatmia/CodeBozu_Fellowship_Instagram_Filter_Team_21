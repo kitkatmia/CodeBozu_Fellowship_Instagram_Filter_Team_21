{
 "cells": [
  {
   "cell_type": "code",
   "execution_count": 1,
   "metadata": {},
   "outputs": [],
   "source": [
    "import cv2\n",
    "import matplotlib.pyplot as plt\n",
    "import numpy as np"
   ]
  },
  {
   "cell_type": "code",
   "execution_count": 2,
   "metadata": {},
   "outputs": [],
   "source": [
    "def Bozu_in_Andromeda(overlay_img, bg_img):\n",
    "    # Making Bozu's image smaller in dimensions\n",
    "    overlay_img = cv2.resize(overlay_img, (0, 0), fx=0.5, fy=0.5)\n",
    "    # Assigning the starting values to place Bozu at the center of the Andromeda\n",
    "    starting_y = bg_img.shape[0]//2 - overlay_img.shape[0]//2\n",
    "    starting_x = bg_img.shape[1]//2 - overlay_img.shape[1]//2\n",
    "    # Adding Bozu's image in Andromeda\n",
    "    bg_img[starting_y:overlay_img.shape[0]+starting_y,\n",
    "           starting_x:overlay_img.shape[1]+starting_x] = overlay_img\n",
    "    # Showing image\n",
    "    plt.title('Bozu in Andromeda')\n",
    "    plt.imshow(bg_img)\n",
    "    plt.show()\n",
    "    # Saving image\n",
    "    cv2.imwrite('Bozu in Andromeda.jpg', bg_img)\n"
   ]
  },
  {
   "cell_type": "code",
   "execution_count": 3,
   "metadata": {},
   "outputs": [],
   "source": [
    "def clip(broken_img):\n",
    "    try: # this runs if the image is an rgb image with 3 layers\n",
    "        for rgb_layer in range(3): # for red, green, and blue layers within the image\n",
    "            layer = broken_img[:, :, rgb_layer]\n",
    "            for row in range(layer.shape[0]): # for every row in that layer\n",
    "                for col in range(layer.shape[1]): # for every # in that row in that column\n",
    "                    if layer[row][col] < 0:\n",
    "                        layer[row][col] = 0 \n",
    "                    elif layer[row][col] > 255:\n",
    "                        layer[row][col] = 255\n",
    "            broken_img[:, :, rgb_layer] = layer # set the broken layer to the newly corrected layer\n",
    "    except: # this runs if image is actually just an array of 3 numbers\n",
    "        for i in range(len(broken_img)):\n",
    "            if broken_img[i] < 0:\n",
    "                broken_img[i] = 0\n",
    "            elif broken_img[i] > 255:\n",
    "                broken_img[i] = 255\n",
    "\n",
    "    plt.title('Clipped Image')\n",
    "    plt.imshow(broken_img)\n",
    "    plt.show()\n",
    "    \n",
    "    return broken_img\n"
   ]
  },
  {
   "cell_type": "code",
   "execution_count": 4,
   "metadata": {},
   "outputs": [],
   "source": [
    "def contrast(image, alpha):\n",
    "    amp_img = image * alpha # multiplying each value by alpha\n",
    "    scaled_img = amp_img/255 # making sure every value in array is between 0-1\n",
    "\n",
    "    plt.imshow(scaled_img)\n",
    "    plt.title('Contrast Bozu')\n",
    "    plt.show()\n"
   ]
  },
  {
   "cell_type": "code",
   "execution_count": 5,
   "metadata": {},
   "outputs": [],
   "source": [
    "def add_brightness(image, beta):\n",
    "\n",
    "    amp_img = image + beta  # adding beta to each value\n",
    "    new_image = amp_img/255\n",
    "\n",
    "    # for some reason the whites in the eyes turn gray -- this corrects that\n",
    "    white_indx = np.where(image == 255)\n",
    "    zipped_indx = list(zip(white_indx[0], white_indx[1], white_indx[2]))\n",
    "    for i in range(len(zipped_indx)):\n",
    "        new_image[zipped_indx[i][0], zipped_indx[i][1], zipped_indx[i][2]] = 255\n",
    "\n",
    "    plt.imshow(new_image)\n",
    "    plt.title('Brightness Bozu')\n",
    "    plt.show\n"
   ]
  },
  {
   "cell_type": "code",
   "execution_count": 6,
   "metadata": {},
   "outputs": [],
   "source": [
    "def add_brightness_ugly(image, beta):\n",
    "    # this is just an uglier, less efficent version of the add_brightness function\n",
    "    new_image = np.zeros(image.shape, image.dtype) # creating new image\n",
    "    for layer in range(image.shape[0]):\n",
    "        for row in range(image.shape[1]):\n",
    "            for col in range(image.shape[2]):\n",
    "                new_image[layer, row, col] = image[layer, row, col] + beta\n",
    "                if new_image[layer, row, col] > 255:\n",
    "                    new_image[layer, row, col] = 255\n",
    "                elif layer[row][col] < 0:\n",
    "                    layer[row][col] = 0\n",
    "                    \n",
    "    # for some reason the whites in the eyes turn gray -- this corrects that\n",
    "    white_indx = np.where(image == 255)\n",
    "    zipped_indx = list(zip(white_indx[0], white_indx[1], white_indx[2]))\n",
    "    for i in range(len(zipped_indx)):\n",
    "        new_image[zipped_indx[i][0], zipped_indx[i]\n",
    "                  [1], zipped_indx[i][2]] = 255\n",
    "\n",
    "    plt.imshow(new_image)\n",
    "    plt.show\n"
   ]
  },
  {
   "cell_type": "code",
   "execution_count": 7,
   "metadata": {},
   "outputs": [],
   "source": [
    "def flip_horizontal(img):\n",
    "    img[:, :, 0] = img[:, ::-1, 0]\n",
    "    img[:, :, 1] = img[:, ::-1, 1]\n",
    "    img[:, :, 2] = img[:, ::-1, 2]\n",
    "    plt.title('Horizontally flipped Bozu')\n",
    "    plt.imshow(img)\n",
    "    plt.show()\n",
    "    return img\n"
   ]
  },
  {
   "cell_type": "code",
   "execution_count": 8,
   "metadata": {},
   "outputs": [],
   "source": [
    "def flip_vertical(img):\n",
    "    img[:, :, 0] = img[::-1, :, 0]\n",
    "    img[:, :, 1] = img[::-1, :, 1]\n",
    "    img[:, :, 2] = img[::-1, :, 2]\n",
    "    plt.title('Vertically flipped Bozu')\n",
    "    plt.imshow(img)\n",
    "    plt.show()\n",
    "    return img"
   ]
  },
  {
   "cell_type": "code",
   "execution_count": 82,
   "metadata": {},
   "outputs": [
    {
     "name": "stderr",
     "output_type": "stream",
     "text": [
      "Clipping input data to the valid range for imshow with RGB data ([0..1] for floats or [0..255] for integers).\n"
     ]
    },
    {
     "data": {
      "image/png": "[encoded data removed]",
      "text/plain": [
       "<Figure size 432x288 with 1 Axes>"
      ]
     },
     "metadata": {
      "needs_background": "light"
     },
     "output_type": "display_data"
    },
    {
     "data": {
      "text/plain": [
       "True"
      ]
     },
     "execution_count": 82,
     "metadata": {},
     "output_type": "execute_result"
    }
   ],
   "source": [
    "def apply_threshold(image, threshold):\n",
    "    # Converting values to binary digits based on theshold\n",
    "    img = np.where(image >= threshold, 1.0, image)\n",
    "    img = np.where(image < threshold, 0.0, image)\n",
    "\n",
    "    plt.title('Bozu Thresholded')\n",
    "    plt.imshow(img)\n",
    "    plt.show()\n",
    "    return img\n"
   ]
  },
  {
   "cell_type": "code",
   "execution_count": 85,
   "metadata": {},
   "outputs": [
    {
     "name": "stderr",
     "output_type": "stream",
     "text": [
      "Clipping input data to the valid range for imshow with RGB data ([0..1] for floats or [0..255] for integers).\n"
     ]
    },
    {
     "data": {
      "image/png": "[encoded data removed]",
      "text/plain": [
       "<Figure size 432x288 with 1 Axes>"
      ]
     },
     "metadata": {
      "needs_background": "light"
     },
     "output_type": "display_data"
    },
    {
     "name": "stdout",
     "output_type": "stream",
     "text": [
      "Thank you for using our program!\n"
     ]
    }
   ],
   "source": [
    "bozu_img = cv2.imread('Bozu.png')\n",
    "andromeda_img = cv2.imread('Andromeda.jpg')\n",
    "choice = input(\"Enter 1 to flip Bozu horizontally\\n2 to flip Bozu vertically\\n3 to clip Bozu\\n4 to contrast Bozu\\n5 to add brightness to Bozu,\\n6 to take Bozu to Andromeda,\\n7 to theshold Bozu,\\nor 8 to exit\\nYour choice: \")\n",
    "while choice != '8':\n",
    "    if choice == '1':\n",
    "        flip_horizontal(bozu_img)\n",
    "    elif choice == '2':\n",
    "        flip_vertical(bozu_img)\n",
    "    elif choice == '3':\n",
    "        clipped_img = clip(bozu_img)\n",
    "    elif choice == '4':\n",
    "        alpha = float(input(\"Enter the value of alpha: \"))\n",
    "        contrasted_img = contrast(bozu_img, alpha)\n",
    "    elif choice == '5':\n",
    "        beta = float(input(\"Enter the value of beta: \"))\n",
    "        brightened_img = add_brightness(bozu_img, beta)\n",
    "    elif choice == '6':\n",
    "        Bozu_in_Andromeda(bozu_img, andromeda_img)\n",
    "    elif choice == '7':\n",
    "        threshold = float(input('Enter threshold value: '))\n",
    "        apply_threshold(bozu_img, threshold)\n",
    "    else:\n",
    "        print(\"Invalid input\")\n",
    "    choice = input(\"Enter 1 to flip Bozu horizontally\\n2 to flip Bozu vertically\\n3 to clip Bozu\\n4 to contrast Bozu\\n5 to add brightness to Bozu,\\n6 to take Bozu to Andromeda,\\n7 to theshold Bozu,\\nor 8 to exit\\nYour choice: \")\n",
    "print(\"Thank you for using our program!\")\n"
   ]
  }
 ],
 "metadata": {
  "interpreter": {
   "hash": "1ee38ef4a5a9feb55287fd749643f13d043cb0a7addaab2a9c224cbe137c0062"
  },
  "kernelspec": {
   "display_name": "Python 3.8.12 64-bit",
   "language": "python",
   "name": "python3"
  },
  "language_info": {
   "codemirror_mode": {
    "name": "ipython",
    "version": 3
   },
   "file_extension": ".py",
   "mimetype": "text/x-python",
   "name": "python",
   "nbconvert_exporter": "python",
   "pygments_lexer": "ipython3",
   "version": "3.8.12"
  },
  "orig_nbformat": 4
 },
 "nbformat": 4,
 "nbformat_minor": 2
}
