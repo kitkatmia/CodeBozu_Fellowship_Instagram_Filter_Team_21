{
 "cells": [
  {
   "cell_type": "code",
   "execution_count": 32,
   "metadata": {},
   "outputs": [],
   "source": [
    "import cv2\n",
    "import numpy as np\n",
    "import matplotlib.pyplot as plt\n",
    "import math"
   ]
  },
  {
   "cell_type": "code",
   "execution_count": 27,
   "metadata": {},
   "outputs": [],
   "source": [
    "def sobelx(img):\n",
    "    blur_img = cv2.GaussianBlur(img, (3, 3), 0) # apply gaussian blur\n",
    "    filter = cv2.filter2D(blur_img, cv2.CV_32F, np.array([[-1, 0, 1], [-2, 0, 2], [-1, 0, 1]])) # apply sobel filter for x\n",
    "    sobel_img = cv2.convertScaleAbs(filter) # convert every value to absolute value of itself\n",
    "\n",
    "    plt.imshow(img, 'gray')\n",
    "    return sobel_img\n",
    "\n",
    "\n",
    "def sobely(img):\n",
    "    blur_img = cv2.GaussianBlur(img, (3, 3), 0) # apply gaussian blur\n",
    "    filter = cv2.filter2D(blur_img, cv2.CV_32F, np.array([[-1, -2, -1], [0, 0, 0], [1, 2, 1]])) # apply sobel filter for x\n",
    "    sobel_img = cv2.convertScaleAbs(filter) # convert every value to absolute value of itself\n",
    "\n",
    "    plt.imshow(img, 'gray')\n",
    "    return sobel_img\n",
    "\n",
    "\n",
    "def canny_edge(img):\n",
    "    filtered_img = cv2.Canny(img, 0, 100)\n",
    "\n",
    "    plt.imshow(img, 'gray')\n",
    "    return filtered_img\n",
    "\n"
   ]
  }
 ],
 "metadata": {
  "interpreter": {
   "hash": "1ee38ef4a5a9feb55287fd749643f13d043cb0a7addaab2a9c224cbe137c0062"
  },
  "kernelspec": {
   "display_name": "Python 3.8.12 64-bit",
   "language": "python",
   "name": "python3"
  },
  "language_info": {
   "codemirror_mode": {
    "name": "ipython",
    "version": 3
   },
   "file_extension": ".py",
   "mimetype": "text/x-python",
   "name": "python",
   "nbconvert_exporter": "python",
   "pygments_lexer": "ipython3",
   "version": "3.8.12"
  },
  "orig_nbformat": 4
 },
 "nbformat": 4,
 "nbformat_minor": 2
}
